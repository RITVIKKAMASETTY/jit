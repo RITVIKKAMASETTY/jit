{
 "cells": [
  {
   "cell_type": "code",
   "execution_count": null,
   "id": "b9431395",
   "metadata": {
    "vscode": {
     "languageId": "plaintext"
    }
   },
   "outputs": [],
   "source": [
    "# Start MongoDB (service)\n",
    "mongod\n",
    "\n",
    "# Open shell\n",
    "mongosh\n",
    "\n",
    "# Create / switch database\n",
    "use todoAppDB\n",
    "\n",
    "# Check all databases\n",
    "show dbs\n"
   ]
  },
  {
   "cell_type": "markdown",
   "id": "05d3e176",
   "metadata": {},
   "source": [
    "users → user info\n",
    "\n",
    "tasks → task details (title, description, due date, status, category)"
   ]
  },
  {
   "cell_type": "code",
   "execution_count": null,
   "id": "c3d6a783",
   "metadata": {
    "vscode": {
     "languageId": "plaintext"
    }
   },
   "outputs": [],
   "source": [
    "db.createCollection(\"users\")\n",
    "db.createCollection(\"tasks\")\n"
   ]
  },
  {
   "cell_type": "markdown",
   "id": "1fef40ff",
   "metadata": {},
   "source": [
    "Insert Example Documents"
   ]
  },
  {
   "cell_type": "code",
   "execution_count": null,
   "id": "1681dc09",
   "metadata": {
    "vscode": {
     "languageId": "plaintext"
    }
   },
   "outputs": [],
   "source": [
    "db.users.insertOne({\n",
    "  name: \"Madhan\",\n",
    "  email: \"madhan@example.com\",\n",
    "  password: \"hashedpassword\"\n",
    "})\n",
    "\n",
    "db.tasks.insertMany([\n",
    "  {\n",
    "    userId: ObjectId(\"USER_ID_HERE\"),\n",
    "    title: \"Finish MongoDB Setup\",\n",
    "    description: \"Integrate MongoDB with Express backend\",\n",
    "    category: \"Backend\",\n",
    "    dueDate: new Date(\"2025-10-25\"),\n",
    "    status: \"pending\",\n",
    "    priority: \"high\"\n",
    "  },\n",
    "  {\n",
    "    userId: ObjectId(\"USER_ID_HERE\"),\n",
    "    title: \"Test CRUD API\",\n",
    "    status: \"completed\",\n",
    "    category: \"Testing\",\n",
    "    dueDate: new Date(\"2025-10-26\")\n",
    "  }\n",
    "])\n"
   ]
  },
  {
   "cell_type": "markdown",
   "id": "86357a02",
   "metadata": {},
   "source": [
    "CRUD Commands"
   ]
  },
  {
   "cell_type": "code",
   "execution_count": null,
   "id": "c903cf3a",
   "metadata": {
    "vscode": {
     "languageId": "plaintext"
    }
   },
   "outputs": [],
   "source": [
    "#Create  \n",
    "\n",
    "db.tasks.insertOne({ title: \"New Task\", status: \"pending\" })\n"
   ]
  },
  {
   "cell_type": "code",
   "execution_count": null,
   "id": "155ff758",
   "metadata": {
    "vscode": {
     "languageId": "plaintext"
    }
   },
   "outputs": [],
   "source": [
    "#read\n",
    "\n",
    "// Get all tasks\n",
    "db.tasks.find()\n",
    "\n",
    "// Get tasks by status\n",
    "db.tasks.find({ status: \"pending\" })\n",
    "\n",
    "// Get tasks by user\n",
    "db.tasks.find({ userId: ObjectId(\"USER_ID_HERE\") })\n",
    "\n",
    "// Find tasks due before a date\n",
    "db.tasks.find({ dueDate: { $lt: new Date(\"2025-11-01\") } })\n"
   ]
  },
  {
   "cell_type": "code",
   "execution_count": null,
   "id": "f5bd20f5",
   "metadata": {
    "vscode": {
     "languageId": "plaintext"
    }
   },
   "outputs": [],
   "source": [
    "UPDATE \n",
    "\n",
    "// Mark a task as completed\n",
    "db.tasks.updateOne(\n",
    "  { title: \"New Task\" },\n",
    "  { $set: { status: \"completed\" } }\n",
    ")\n",
    "\n",
    "// Update due date\n",
    "db.tasks.updateMany(\n",
    "  { status: \"pending\" },\n",
    "  { $set: { priority: \"medium\" } }\n",
    ")\n"
   ]
  },
  {
   "cell_type": "code",
   "execution_count": null,
   "id": "119d2e9f",
   "metadata": {
    "vscode": {
     "languageId": "plaintext"
    }
   },
   "outputs": [],
   "source": [
    "// Delete one\n",
    "db.tasks.deleteOne({ title: \"Old Task\" })\n",
    "\n",
    "// Delete completed tasks\n",
    "db.tasks.deleteMany({ status: \"completed\" })\n"
   ]
  },
  {
   "cell_type": "markdown",
   "id": "33283629",
   "metadata": {},
   "source": [
    "Filtering & Query Operators"
   ]
  },
  {
   "cell_type": "code",
   "execution_count": null,
   "id": "e92d6e60",
   "metadata": {
    "vscode": {
     "languageId": "plaintext"
    }
   },
   "outputs": [],
   "source": [
    "// Tasks due soon\n",
    "db.tasks.find({ dueDate: { $lt: new Date(\"2025-10-30\") } })\n",
    "\n",
    "// High-priority tasks\n",
    "db.tasks.find({ priority: { $in: [\"high\", \"urgent\"] } })\n",
    "\n",
    "// Tasks that are not completed\n",
    "db.tasks.find({ status: { $ne: \"completed\" } })\n"
   ]
  }
 ],
 "metadata": {
  "language_info": {
   "name": "python"
  }
 },
 "nbformat": 4,
 "nbformat_minor": 5
}
