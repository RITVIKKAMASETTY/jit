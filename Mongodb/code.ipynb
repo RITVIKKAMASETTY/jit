{
 "cells": [
  {
   "cell_type": "code",
   "execution_count": null,
   "id": "46c5e8cf",
   "metadata": {
    "vscode": {
     "languageId": "plaintext"
    }
   },
   "outputs": [],
   "source": [
    "mongosh"
   ]
  },
  {
   "cell_type": "code",
   "execution_count": null,
   "id": "b0af0763",
   "metadata": {
    "vscode": {
     "languageId": "plaintext"
    }
   },
   "outputs": [],
   "source": [
    "show dbs"
   ]
  },
  {
   "cell_type": "code",
   "execution_count": null,
   "id": "61d2232b",
   "metadata": {
    "vscode": {
     "languageId": "plaintext"
    }
   },
   "outputs": [],
   "source": [
    "show collections"
   ]
  },
  {
   "cell_type": "code",
   "execution_count": null,
   "id": "0b1ca0d5",
   "metadata": {
    "vscode": {
     "languageId": "plaintext"
    }
   },
   "outputs": [],
   "source": [
    "db.books"
   ]
  },
  {
   "cell_type": "markdown",
   "id": "a46a1d9e",
   "metadata": {},
   "source": [
    "Insert commands"
   ]
  }
 ],
 "metadata": {
  "language_info": {
   "name": "python"
  }
 },
 "nbformat": 4,
 "nbformat_minor": 5
}
